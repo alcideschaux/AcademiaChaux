{
 "cells": [
  {
   "cell_type": "markdown",
   "metadata": {},
   "source": [
    "# Características del marco teórico"
   ]
  },
  {
   "cell_type": "markdown",
   "metadata": {},
   "source": [
    "## Extensión"
   ]
  },
  {
   "cell_type": "markdown",
   "metadata": {},
   "source": [
    "- El marco teórico debe tener una extensión de entre 5 a 10 páginas.\n",
    "- En algunos casos, está justificado el desarrollar un marco teórico más extenso.\n",
    "- Debemos evitar los marcos teóricos excesivamente largos, especialmente aquellos que sobrepasen las 15 páginas."
   ]
  },
  {
   "cell_type": "markdown",
   "metadata": {},
   "source": [
    "## Contenido"
   ]
  },
  {
   "cell_type": "markdown",
   "metadata": {},
   "source": [
    "- El marco teórico debe presentar el estado del conocimiento actual (y actualizado) acerca del tópico investigado.\n",
    "- Debe centránrse en presentar los resultados de investigaciones realizadas en los últimos 4-5 años.\n",
    "- El marco teórico no debería usarse para presentar conceptos básicos similares a lo que un libro de texto presenta."
   ]
  },
  {
   "cell_type": "markdown",
   "metadata": {},
   "source": [
    "## Estructura"
   ]
  },
  {
   "cell_type": "markdown",
   "metadata": {},
   "source": [
    "- El marco teórico debería tener una introducción, un cuerpo (desarrollo) y una conclusión.\n",
    "- En la introducción, se presenta el tópico a ser desarrollado, indicando el contexto dentro del estado del conocimiento (extensión de 1-2 páginas).\n",
    "- En el cuerpo, se desarrolla el tema, exponiendo todos los aspectos relevantes con respecto al estado del conocimiento, tomando en cuenta las investigaciones realizadas al respecto (extensión de 3-8 páginas).\n",
    "- En la conclusión, se presentan las principales conclusiones obtenidas tras revisar la literatura sobre el tema investigado, resaltando los principales puntos relacionados con la investigación llevada a cabo (extensión de 1-2 páginas)."
   ]
  },
  {
   "cell_type": "markdown",
   "metadata": {},
   "source": [
    "## Bibliografía\n",
    "- La gran mayoria (>90%) de las fuentes de información usadas deben corresponder a artículos científicos\n",
    "- De forma excepcional, se pueden presentar revisiones y reportes o series de casos.\n",
    "- Es recomendable incluir al menos 20-30 referencias bibliográficas.\n",
    "- Debe evitarse el uso de libros de texto y de páginas web no indexadas como fuentes de información.\n",
    "- Se debe usar un estilo consistente para las citas y lista de referencias, previamente determinado (v.g., Vancouver, APA)"
   ]
  },
  {
   "cell_type": "markdown",
   "metadata": {},
   "source": [
    "## Lenguaje\n",
    "- El lenguaje usado para la redacción del marco teórico debe ser sencillo y fácil de leer, incluso para alguien que no sea experto en el tema.\n",
    "- Se debe evitar el uso excesivo de términos técnicos y jerga.\n",
    "- Se deben evitar las abreviaciones, excepto cuando hacen referencia a términos que son apliamente conocidos (v.g., ADN)\n",
    "- Las oraciones deben ser cortas y factuales y contener sólo una idea central.\n",
    "- Los tiempos verbales deben ser usados de forma consistente y apropiada."
   ]
  }
 ],
 "metadata": {
  "kernelspec": {
   "display_name": "Python 3",
   "language": "python",
   "name": "python3"
  },
  "language_info": {
   "codemirror_mode": {
    "name": "ipython",
    "version": 3
   },
   "file_extension": ".py",
   "mimetype": "text/x-python",
   "name": "python",
   "nbconvert_exporter": "python",
   "pygments_lexer": "ipython3",
   "version": "3.7.7"
  }
 },
 "nbformat": 4,
 "nbformat_minor": 4
}
